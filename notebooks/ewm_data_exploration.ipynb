{
 "cells": [
  {
   "cell_type": "markdown",
   "metadata": {},
   "source": [
    "## Engineering Workflow Manager Data Exploration\n",
    "Demonstrates data science application development on IBM Engineering Workflow Manager (EWM, and formerly Rational Team Concert). mkdata.create_projectarea_df() uses the EWM SCM CLI for data access.\n",
    "\n",
    "Mapping EWM and GitHub:\n",
    "* EWM ProjectArea -- GitHub Organization\n",
    "* EWM component -- git repository\n",
    "* EWM change set -- git commit"
   ]
  },
  {
   "cell_type": "code",
   "execution_count": 72,
   "metadata": {
    "code_folding": [
     0
    ]
   },
   "outputs": [
    {
     "data": {
      "text/html": [
       "<style>.container { width:100% !important; }</style>"
      ],
      "text/plain": [
       "<IPython.core.display.HTML object>"
      ]
     },
     "metadata": {},
     "output_type": "display_data"
    },
    {
     "data": {
      "text/plain": [
       "<module 'devml.mkdata' from '../devml/mkdata.py'>"
      ]
     },
     "execution_count": 72,
     "metadata": {},
     "output_type": "execute_result"
    }
   ],
   "source": [
    "# Import required code\n",
    "import sys;sys.path.append(\"..\")\n",
    "import importlib\n",
    "import pandas as pd\n",
    "from pandas import DataFrame\n",
    "import seaborn as sns\n",
    "import matplotlib.pyplot as plt\n",
    "from sklearn.cluster import KMeans\n",
    "%matplotlib inline\n",
    "from IPython.core.display import display, HTML\n",
    "display(HTML(\"<style>.container { width:100% !important; }</style>\"))\n",
    "\n",
    "from devml import (mkdata, stats, state, fetch_repo, ts)\n",
    "# reload these incase they've changed during developmnet\n",
    "importlib.reload(mkdata)\n"
   ]
  },
  {
   "cell_type": "code",
   "execution_count": 62,
   "metadata": {
    "code_folding": [
     0
    ]
   },
   "outputs": [
    {
     "name": "stdout",
     "output_type": "stream",
     "text": [
      "Input your EWM credentials...\n",
      "User ID: jamsden@us.ibm.com\n",
      "········\n"
     ]
    }
   ],
   "source": [
    "# Execute this cell to set your user credentials\n",
    "\n",
    "import getpass\n",
    "userId = input(\"Input your EWM credentials...\\nUser ID: \")\n",
    "password = getpass.getpass()\n"
   ]
  },
  {
   "cell_type": "code",
   "execution_count": 73,
   "metadata": {
    "code_folding": [],
    "scrolled": true
   },
   "outputs": [
    {
     "name": "stdout",
     "output_type": "stream",
     "text": [
      "archive\n",
      "Autotrans.script\n",
      "buildTools\n",
      "conref\n",
      "features\n",
      "for_compatibility\n",
      "help\n",
      "Messages\n",
      "Messages_test\n",
      "mifune\n",
      "oslc\n",
      "PDXMLfiles\n",
      "releng\n",
      "scripts\n",
      "templates\n",
      "Test\n",
      "testing\n",
      "tours\n",
      "translations\n",
      "transTools\n",
      "transTools_preIDWB440\n",
      "tutorials\n",
      "UAPackaging\n",
      "UASpecialBuilds\n",
      "UAWARbuilds\n"
     ]
    }
   ],
   "source": [
    "# Load the developer data from an EWM project area.\n",
    "# EWM ProjectArea -- GitHub Organization\n",
    "# EWM component -- git repository\n",
    "# EWM change set -- git commit\n",
    "df = mkdata.create_projectarea_df('https://jazzop01.rtp.raleigh.ibm.com:9943/jazz', 'Jazz Collaborative ALM', userId, password)\n"
   ]
  },
  {
   "cell_type": "code",
   "execution_count": 74,
   "metadata": {},
   "outputs": [],
   "source": [
    "df_author_ud = stats.author_unique_active_days(df)"
   ]
  },
  {
   "cell_type": "code",
   "execution_count": 75,
   "metadata": {},
   "outputs": [
    {
     "data": {
      "text/html": [
       "<div>\n",
       "<style scoped>\n",
       "    .dataframe tbody tr th:only-of-type {\n",
       "        vertical-align: middle;\n",
       "    }\n",
       "\n",
       "    .dataframe tbody tr th {\n",
       "        vertical-align: top;\n",
       "    }\n",
       "\n",
       "    .dataframe thead th {\n",
       "        text-align: right;\n",
       "    }\n",
       "</style>\n",
       "<table border=\"1\" class=\"dataframe\">\n",
       "  <thead>\n",
       "    <tr style=\"text-align: right;\">\n",
       "      <th></th>\n",
       "      <th>author_name</th>\n",
       "      <th>active_days</th>\n",
       "      <th>active_duration</th>\n",
       "      <th>active_ratio</th>\n",
       "    </tr>\n",
       "  </thead>\n",
       "  <tbody>\n",
       "    <tr>\n",
       "      <th>1</th>\n",
       "      <td>Carol Newbold</td>\n",
       "      <td>17</td>\n",
       "      <td>118 days</td>\n",
       "      <td>0.14</td>\n",
       "    </tr>\n",
       "    <tr>\n",
       "      <th>3</th>\n",
       "      <td>Guadalajara Build View 01</td>\n",
       "      <td>4</td>\n",
       "      <td>43 days</td>\n",
       "      <td>0.09</td>\n",
       "    </tr>\n",
       "    <tr>\n",
       "      <th>5</th>\n",
       "      <td>Jose de Jesus Herrera Ledon</td>\n",
       "      <td>2</td>\n",
       "      <td>1 days</td>\n",
       "      <td>2.00</td>\n",
       "    </tr>\n",
       "    <tr>\n",
       "      <th>2</th>\n",
       "      <td>Eric Solomon</td>\n",
       "      <td>1</td>\n",
       "      <td>0 days</td>\n",
       "      <td>inf</td>\n",
       "    </tr>\n",
       "    <tr>\n",
       "      <th>4</th>\n",
       "      <td>Guadalajara Build team 1.</td>\n",
       "      <td>1</td>\n",
       "      <td>0 days</td>\n",
       "      <td>inf</td>\n",
       "    </tr>\n",
       "    <tr>\n",
       "      <th>6</th>\n",
       "      <td>Patricia Der</td>\n",
       "      <td>1</td>\n",
       "      <td>0 days</td>\n",
       "      <td>inf</td>\n",
       "    </tr>\n",
       "  </tbody>\n",
       "</table>\n",
       "</div>"
      ],
      "text/plain": [
       "                   author_name  active_days active_duration  active_ratio\n",
       "1                Carol Newbold           17        118 days          0.14\n",
       "3    Guadalajara Build View 01            4         43 days          0.09\n",
       "5  Jose de Jesus Herrera Ledon            2          1 days          2.00\n",
       "2                 Eric Solomon            1          0 days           inf\n",
       "4    Guadalajara Build team 1.            1          0 days           inf\n",
       "6                 Patricia Der            1          0 days           inf"
      ]
     },
     "execution_count": 75,
     "metadata": {},
     "output_type": "execute_result"
    }
   ],
   "source": [
    "df_author_ud.head(10)"
   ]
  },
  {
   "cell_type": "code",
   "execution_count": 51,
   "metadata": {},
   "outputs": [
    {
     "data": {
      "text/plain": [
       "<matplotlib.axes._subplots.AxesSubplot at 0x7fd347a6a450>"
      ]
     },
     "execution_count": 51,
     "metadata": {},
     "output_type": "execute_result"
    },
    {
     "data": {
      "image/png": "[encoded data removed]",
      "text/plain": [
       "<Figure size 432x288 with 1 Axes>"
      ]
     },
     "metadata": {
      "needs_background": "light"
     },
     "output_type": "display_data"
    }
   ],
   "source": [
    "sns.barplot(y=\"author_name\", x=\"active_days\", data=df_author_ud.head(10))"
   ]
  },
  {
   "cell_type": "code",
   "execution_count": 55,
   "metadata": {
    "code_folding": [
     0
    ]
   },
   "outputs": [],
   "source": [
    "# Create a snapshot of this notebook\n",
    "# Save the notebook before using nbconvert\n",
    "from IPython.display import Javascript\n",
    "\n",
    "script = '''\n",
    "require([\"base/js/namespace\"],function(Jupyter) {\n",
    "    Jupyter.notebook.save_checkpoint();\n",
    "});\n",
    "'''\n",
    "Javascript(script)\n",
    "\n",
    "!jupyter nbconvert --no-prompt --no-input --ExtractOutputPreprocessor.enabled=False --TemplateExporter.exclude_input=True ewm_data_exploration.ipynb 2>/dev/null 1>/dev/null\n",
    "\n"
   ]
  },
  {
   "cell_type": "code",
   "execution_count": null,
   "metadata": {},
   "outputs": [],
   "source": []
  }
 ],
 "metadata": {
  "kernelspec": {
   "display_name": "Python 3",
   "language": "python",
   "name": "python3"
  },
  "language_info": {
   "codemirror_mode": {
    "name": "ipython",
    "version": 3
   },
   "file_extension": ".py",
   "mimetype": "text/x-python",
   "name": "python",
   "nbconvert_exporter": "python",
   "pygments_lexer": "ipython3",
   "version": "3.8.3"
  },
  "toc": {
   "base_numbering": 1,
   "nav_menu": {},
   "number_sections": true,
   "sideBar": true,
   "skip_h1_title": false,
   "title_cell": "Table of Contents",
   "title_sidebar": "Contents",
   "toc_cell": false,
   "toc_position": {},
   "toc_section_display": true,
   "toc_window_display": false
  }
 },
 "nbformat": 4,
 "nbformat_minor": 2
}
